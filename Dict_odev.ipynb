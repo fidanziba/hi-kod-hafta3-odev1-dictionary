{
 "cells": [
  {
   "cell_type": "markdown",
   "id": "3927599b",
   "metadata": {},
   "source": [
    "Bir sözlük oluşturulur ve bu sözlükte öğrencilerin isimleri ve Matematik,Fizik,Kimya notları tutulur. Kullanıcıdan isim ve ders ismi(Matematik,Fizik,Kimya) istenir ve bu bilgilere göre çıktı verilir."
   ]
  },
  {
   "cell_type": "markdown",
   "id": "cf4ca131",
   "metadata": {},
   "source": [
    "Sözlük üzerinde değerleri değitirme, yeni değer ekleme, kullanıcıya ulaşmak istediği bilgileri sorma gibi uygulamalar yapın."
   ]
  },
  {
   "cell_type": "code",
   "execution_count": 3,
   "id": "c28fd283",
   "metadata": {},
   "outputs": [
    {
     "name": "stdout",
     "output_type": "stream",
     "text": [
      "İsim girin : fidan\n",
      "dersi seçin : matematik\n",
      "notunuzu girin: 100\n",
      "fidan adlı öğrencinin matematik notu: 100\n"
     ]
    }
   ],
   "source": [
    "ogrenci_notlari = {}\n",
    "\n",
    "isim = input(\"İsim girin : \")\n",
    "ders = input(\"dersi seçin : \")\n",
    "ogrenci_not = input(\"notunuzu girin: \")\n",
    "\n",
    "ogrenci_notlari[isim] = {ders : ogrenci_not}\n",
    "print(f\"{isim} adlı öğrencinin {ders} notu: {ogrenci_notlari[isim][ders]}\")"
   ]
  }
 ],
 "metadata": {
  "kernelspec": {
   "display_name": "Python 3 (ipykernel)",
   "language": "python",
   "name": "python3"
  },
  "language_info": {
   "codemirror_mode": {
    "name": "ipython",
    "version": 3
   },
   "file_extension": ".py",
   "mimetype": "text/x-python",
   "name": "python",
   "nbconvert_exporter": "python",
   "pygments_lexer": "ipython3",
   "version": "3.11.4"
  }
 },
 "nbformat": 4,
 "nbformat_minor": 5
}
